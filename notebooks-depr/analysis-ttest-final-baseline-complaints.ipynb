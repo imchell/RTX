{
 "cells": [
  {
   "cell_type": "markdown",
   "metadata": {},
   "source": [
    "## Import data"
   ]
  },
  {
   "cell_type": "code",
   "execution_count": 1,
   "metadata": {
    "collapsed": false,
    "scrolled": true
   },
   "outputs": [
    {
     "name": "stdout",
     "output_type": "stream",
     "text": [
      "data retrieved from file rtxgaussian-600-300-baseline-5iter-5000.pickle\n",
      "data retrieved from file rtxgaussian-600-300-baseline-complaints-5000.pickle\n"
     ]
    }
   ],
   "source": [
    "%matplotlib inline\n",
    "%reload_ext autoreload\n",
    "from rtxlib.rtx_run import setup_database, db\n",
    "from analysis_lib.one_sample_tests import KolmogorovSmirnov\n",
    "from factorial_anova_analysis import get_raw_data\n",
    "\n",
    "index = \"rtxgaussian-600-300-baseline-5iter\"         # 5 iterations, no complaint handling\n",
    "index2 = \"rtxgaussian-600-300-baseline-complaints\"   # 5 iterations, with complaint handling\n",
    "\n",
    "results = get_raw_data(index, False, 5000)\n",
    "results2 = get_raw_data(index2, False, 5000)"
   ]
  },
  {
   "cell_type": "code",
   "execution_count": 4,
   "metadata": {
    "collapsed": false
   },
   "outputs": [
    {
     "data": {
      "text/markdown": [
       "<span style='color:green'>**Found 5 different configurations in 25000 data **</span>"
      ],
      "text/plain": [
       "<IPython.core.display.Markdown object>"
      ]
     },
     "metadata": {},
     "output_type": "display_data"
    },
    {
     "name": "stdout",
     "output_type": "stream",
     "text": [
      "5000 of these:\n",
      "{   u'average_edge_duration_factor': 1.2009325180672086,\n",
      "    u'exploration_percentage': 0.05010268862650411,\n",
      "    u'freshness_cut_off_value': 100,\n",
      "    u'freshness_update_factor': 5,\n",
      "    u'max_speed_and_length_factor': 1.4945493929158853,\n",
      "    u're_route_every_ticks': 10,\n",
      "    u'route_random_sigma': 0.1118340904614347}\n",
      "\n",
      "\n",
      "5000 of these:\n",
      "{   u'average_edge_duration_factor': 2.3289187877357223,\n",
      "    u'exploration_percentage': 0.04667192187509053,\n",
      "    u'freshness_cut_off_value': 100,\n",
      "    u'freshness_update_factor': 5,\n",
      "    u'max_speed_and_length_factor': 1.489930472414268,\n",
      "    u're_route_every_ticks': 70,\n",
      "    u'route_random_sigma': 0.1457615546536177}\n",
      "\n",
      "\n",
      "5000 of these:\n",
      "{   u'average_edge_duration_factor': 2.5,\n",
      "    u'exploration_percentage': 0.3,\n",
      "    u'freshness_cut_off_value': 100,\n",
      "    u'freshness_update_factor': 5,\n",
      "    u'max_speed_and_length_factor': 2.5,\n",
      "    u're_route_every_ticks': 70,\n",
      "    u'route_random_sigma': 0.0}\n",
      "\n",
      "\n",
      "5000 of these:\n",
      "{   u'average_edge_duration_factor': 2.5,\n",
      "    u'exploration_percentage': 0.0,\n",
      "    u'freshness_cut_off_value': 100,\n",
      "    u'freshness_update_factor': 20,\n",
      "    u'max_speed_and_length_factor': 1.0,\n",
      "    u're_route_every_ticks': 70,\n",
      "    u'route_random_sigma': 0.3}\n",
      "\n",
      "\n",
      "5000 of these:\n",
      "{   u'average_edge_duration_factor': 1.2081011415096372,\n",
      "    u'exploration_percentage': 0.19508109229406423,\n",
      "    u'freshness_cut_off_value': 359,\n",
      "    u'freshness_update_factor': 15,\n",
      "    u'max_speed_and_length_factor': 2.36432856969756,\n",
      "    u're_route_every_ticks': 63,\n",
      "    u'route_random_sigma': 0.11615606716272785}\n",
      "\n",
      "\n"
     ]
    },
    {
     "data": {
      "text/markdown": [
       "<span style='color:green'>**Found 5 different configurations in 20010 data **</span>"
      ],
      "text/plain": [
       "<IPython.core.display.Markdown object>"
      ]
     },
     "metadata": {},
     "output_type": "display_data"
    },
    {
     "name": "stdout",
     "output_type": "stream",
     "text": [
      "10 of these:\n",
      "{   u'average_edge_duration_factor': 2.5,\n",
      "    u'exploration_percentage': 0.3,\n",
      "    u'freshness_cut_off_value': 100,\n",
      "    u'freshness_update_factor': 5,\n",
      "    u'max_speed_and_length_factor': 2.5,\n",
      "    u're_route_every_ticks': 10,\n",
      "    u'route_random_sigma': 0.0}\n",
      "\n",
      "\n",
      "5000 of these:\n",
      "{   u'average_edge_duration_factor': 1.707590907347147,\n",
      "    u'exploration_percentage': 0.06165476357391508,\n",
      "    u'freshness_cut_off_value': 100,\n",
      "    u'freshness_update_factor': 5,\n",
      "    u'max_speed_and_length_factor': 1.3769032158340886,\n",
      "    u're_route_every_ticks': 10,\n",
      "    u'route_random_sigma': 0.2087352934146506}\n",
      "\n",
      "\n",
      "5000 of these:\n",
      "{   u'average_edge_duration_factor': 1.0,\n",
      "    u'exploration_percentage': 0.0,\n",
      "    u'freshness_cut_off_value': 100,\n",
      "    u'freshness_update_factor': 20,\n",
      "    u'max_speed_and_length_factor': 1.0,\n",
      "    u're_route_every_ticks': 70,\n",
      "    u'route_random_sigma': 0.3}\n",
      "\n",
      "\n",
      "5000 of these:\n",
      "{   u'average_edge_duration_factor': 1.1992204588543083,\n",
      "    u'exploration_percentage': 0.15668048897113954,\n",
      "    u'freshness_cut_off_value': 700,\n",
      "    u'freshness_update_factor': 5,\n",
      "    u'max_speed_and_length_factor': 1.0,\n",
      "    u're_route_every_ticks': 10,\n",
      "    u'route_random_sigma': 0.1465809145273787}\n",
      "\n",
      "\n",
      "5000 of these:\n",
      "{   u'average_edge_duration_factor': 2.038004561606667,\n",
      "    u'exploration_percentage': 0.21594961765398604,\n",
      "    u'freshness_cut_off_value': 509,\n",
      "    u'freshness_update_factor': 6,\n",
      "    u'max_speed_and_length_factor': 1.677597805980317,\n",
      "    u're_route_every_ticks': 29,\n",
      "    u'route_random_sigma': 0.10153413854528286}\n",
      "\n",
      "\n"
     ]
    }
   ],
   "source": [
    "import pprint\n",
    "from IPython.display import Markdown, display\n",
    "\n",
    "def printmd(string, color=None):\n",
    "    colorstr = \"<span style='color:{}'>{}</span>\".format(color, string)\n",
    "    display(Markdown(colorstr))\n",
    "    \n",
    "pp = pprint.PrettyPrinter(indent=4)\n",
    "\n",
    "knobs = {}\n",
    "data = {}\n",
    "for r in results:\n",
    "    knob_str = str(r[1])\n",
    "    if not knob_str in knobs:        \n",
    "        knobs[knob_str] = []\n",
    "    if len(knobs[knob_str]) < 5000:\n",
    "        knobs[knob_str].append(r[1])\n",
    "    if not knob_str in data:        \n",
    "        data[knob_str] = []\n",
    "    if len(data[knob_str]) < 5000:\n",
    "        data[knob_str].append(r[0])\n",
    "\n",
    "printmd(\"**Found \" + str(len(knobs)) + \" different configurations in \" + str(len(results)) + \" data **\", \"green\")\n",
    "\n",
    "for k in knobs:\n",
    "    print str(len(knobs[k])) + \" of these:\"\n",
    "    pp.pprint(eval(k))\n",
    "    print \"\\n\"\n",
    "    \n",
    "knobs2 = {}\n",
    "data2 = {}\n",
    "for r in results2:\n",
    "    knob_str = str(r[1])\n",
    "    if not knob_str in knobs2:        \n",
    "        knobs2[knob_str] = []\n",
    "    if len(knobs2[knob_str]) < 5000:\n",
    "        knobs2[knob_str].append(r[1])\n",
    "    if not knob_str in data2:        \n",
    "        data2[knob_str] = []\n",
    "    if len(data2[knob_str]) < 5000:\n",
    "        data2[knob_str].append(r[0])\n",
    "\n",
    "printmd(\"**Found \" + str(len(knobs2)) + \" different configurations in \" + str(len(results2)) + \" data **\", \"green\")\n",
    "\n",
    "for k in knobs2:\n",
    "    print str(len(knobs2[k])) + \" of these:\"\n",
    "    pp.pprint(eval(k))\n",
    "    print \"\\n\""
   ]
  },
  {
   "cell_type": "markdown",
   "metadata": {},
   "source": [
    "## Counting complaints"
   ]
  },
  {
   "cell_type": "code",
   "execution_count": 5,
   "metadata": {
    "collapsed": false
   },
   "outputs": [
    {
     "name": "stdout",
     "output_type": "stream",
     "text": [
      "2045\n",
      "1255\n"
     ]
    }
   ],
   "source": [
    "complaints = {}\n",
    "\n",
    "for k, data_list in data.iteritems():\n",
    "\n",
    "    complaints_no = 0\n",
    "    \n",
    "    for d in data_list:\n",
    "        complaints_no += d[\"complaint\"]\n",
    "\n",
    "    complaints[k] = complaints_no\n",
    "    \n",
    "print sum(complaints.values())\n",
    "\n",
    "complaints2 = {}\n",
    "\n",
    "for k, data_list in data2.iteritems():\n",
    "\n",
    "    complaints_no = 0\n",
    "    \n",
    "    for d in data_list:\n",
    "        complaints_no += d[\"complaint\"]\n",
    "\n",
    "    complaints2[k] = complaints_no\n",
    "\n",
    "print sum(complaints2.values())"
   ]
  },
  {
   "cell_type": "code",
   "execution_count": 6,
   "metadata": {
    "collapsed": false
   },
   "outputs": [
    {
     "name": "stdout",
     "output_type": "stream",
     "text": [
      "{u're_route_every_ticks': 10, u'freshness_cut_off_value': 100, u'max_speed_and_length_factor': 1.4945493929158853, u'exploration_percentage': 0.05010268862650411, u'freshness_update_factor': 5, u'route_random_sigma': 0.1118340904614347, u'average_edge_duration_factor': 1.2009325180672086}\n",
      "322\n",
      "\n",
      "\n",
      "{u're_route_every_ticks': 70, u'freshness_cut_off_value': 100, u'max_speed_and_length_factor': 1.489930472414268, u'exploration_percentage': 0.04667192187509053, u'freshness_update_factor': 5, u'route_random_sigma': 0.1457615546536177, u'average_edge_duration_factor': 2.3289187877357223}\n",
      "412\n",
      "\n",
      "\n",
      "{u're_route_every_ticks': 70, u'freshness_cut_off_value': 100, u'max_speed_and_length_factor': 2.5, u'exploration_percentage': 0.3, u'freshness_update_factor': 5, u'route_random_sigma': 0.0, u'average_edge_duration_factor': 2.5}\n",
      "363\n",
      "\n",
      "\n",
      "{u're_route_every_ticks': 70, u'freshness_cut_off_value': 100, u'max_speed_and_length_factor': 1.0, u'exploration_percentage': 0.0, u'freshness_update_factor': 20, u'route_random_sigma': 0.3, u'average_edge_duration_factor': 2.5}\n",
      "632\n",
      "\n",
      "\n",
      "{u're_route_every_ticks': 63, u'freshness_cut_off_value': 359, u'max_speed_and_length_factor': 2.36432856969756, u'exploration_percentage': 0.19508109229406423, u'freshness_update_factor': 15, u'route_random_sigma': 0.11615606716272785, u'average_edge_duration_factor': 1.2081011415096372}\n",
      "316\n",
      "\n",
      "\n",
      "=================\n",
      "{u're_route_every_ticks': 10, u'freshness_cut_off_value': 100, u'max_speed_and_length_factor': 2.5, u'exploration_percentage': 0.3, u'freshness_update_factor': 5, u'route_random_sigma': 0.0, u'average_edge_duration_factor': 2.5}\n",
      "3\n",
      "\n",
      "\n",
      "{u're_route_every_ticks': 10, u'freshness_cut_off_value': 100, u'max_speed_and_length_factor': 1.3769032158340886, u'exploration_percentage': 0.06165476357391508, u'freshness_update_factor': 5, u'route_random_sigma': 0.2087352934146506, u'average_edge_duration_factor': 1.707590907347147}\n",
      "359\n",
      "\n",
      "\n",
      "{u're_route_every_ticks': 70, u'freshness_cut_off_value': 100, u'max_speed_and_length_factor': 1.0, u'exploration_percentage': 0.0, u'freshness_update_factor': 20, u'route_random_sigma': 0.3, u'average_edge_duration_factor': 1.0}\n",
      "337\n",
      "\n",
      "\n",
      "{u're_route_every_ticks': 10, u'freshness_cut_off_value': 700, u'max_speed_and_length_factor': 1.0, u'exploration_percentage': 0.15668048897113954, u'freshness_update_factor': 5, u'route_random_sigma': 0.1465809145273787, u'average_edge_duration_factor': 1.1992204588543083}\n",
      "309\n",
      "\n",
      "\n",
      "{u're_route_every_ticks': 29, u'freshness_cut_off_value': 509, u'max_speed_and_length_factor': 1.677597805980317, u'exploration_percentage': 0.21594961765398604, u'freshness_update_factor': 6, u'route_random_sigma': 0.10153413854528286, u'average_edge_duration_factor': 2.038004561606667}\n",
      "247\n",
      "\n",
      "\n"
     ]
    }
   ],
   "source": [
    "for k, c in complaints.iteritems():\n",
    "    print k\n",
    "    print c\n",
    "    print \"\\n\"\n",
    "    \n",
    "print \"=================\"\n",
    "\n",
    "for k, c in complaints2.iteritems():\n",
    "    print k\n",
    "    print c\n",
    "    print \"\\n\""
   ]
  },
  {
   "cell_type": "code",
   "execution_count": null,
   "metadata": {
    "collapsed": true
   },
   "outputs": [],
   "source": []
  }
 ],
 "metadata": {
  "anaconda-cloud": {},
  "kernelspec": {
   "display_name": "Python [Root]",
   "language": "python",
   "name": "Python [Root]"
  },
  "language_info": {
   "codemirror_mode": {
    "name": "ipython",
    "version": 2
   },
   "file_extension": ".py",
   "mimetype": "text/x-python",
   "name": "python",
   "nbconvert_exporter": "python",
   "pygments_lexer": "ipython2",
   "version": "2.7.12"
  }
 },
 "nbformat": 4,
 "nbformat_minor": 0
}
