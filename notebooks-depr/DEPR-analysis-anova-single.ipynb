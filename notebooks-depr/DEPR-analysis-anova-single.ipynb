{
 "cells": [
  {
   "cell_type": "markdown",
   "metadata": {},
   "source": [
    "## Import data"
   ]
  },
  {
   "cell_type": "code",
   "execution_count": null,
   "metadata": {
    "collapsed": false,
    "scrolled": true
   },
   "outputs": [
    {
     "name": "stdout",
     "output_type": "stream",
     "text": [
      "data retrieved from file rtxfactorial1.pickle\n",
      "~~~~~~~~~\n",
      "rtxfactorial1\n",
      "~~~~~~~~~\n"
     ]
    }
   ],
   "source": [
    "%matplotlib inline\n",
    "%reload_ext autoreload\n",
    "from rtxlib.rtx_run import setup_database, db\n",
    "from analysis_lib.one_sample_tests import KolmogorovSmirnov\n",
    "from factorial_anova_analysis import get_data_and_knobs\n",
    "\n",
    "strategy_knobs = {\n",
    "    \"route_random_sigma\": ([0.0, 0.3], 0.3),\n",
    "    \"exploration_percentage\": ([0.0, 0.3], 0.3),\n",
    "    \"max_speed_and_length_factor\": ([1.0, 2.5], 1.5),\n",
    "    \"average_edge_duration_factor\": ([1.0, 2.5], 1.5),\n",
    "    \"freshness_update_factor\": ([5, 20], 15),\n",
    "    \"freshness_cut_off_value\": ([100, 700], 600),\n",
    "    \"re_route_every_ticks\": ([10, 70], 60),\n",
    "}\n",
    "\n",
    "index = \"rtxfactorial1\" # cars: 750, smart cars: 750, no pendulum (= rtx50)\n",
    "\n",
    "data, knobs, exp_count = get_data_and_knobs(\"rtxfactorial1\", strategy_knobs, False, 10000)\n",
    "\n",
    "print \"exp_count: \" + str(exp_count)"
   ]
  },
  {
   "cell_type": "markdown",
   "metadata": {},
   "source": [
    "## Factorial ANOVA with variable sample sizes"
   ]
  },
  {
   "cell_type": "code",
   "execution_count": null,
   "metadata": {
    "collapsed": false
   },
   "outputs": [],
   "source": [
    "from analysis_lib.factorial_tests import FactorialAnova\n",
    "\n",
    "alpha = 0.01\n",
    "fake_id = \"123456\"\n",
    "y_key = 'overhead'\n",
    "\n",
    "sample_sizes = []\n",
    "probabilities = {}\n",
    "\n",
    "def all_knobs_considered(exp):\n",
    "    keys = strategy_knobs.keys() \n",
    "    for e in exp.index: \n",
    "        for k in keys: \n",
    "            if e.find(k) != -1:\n",
    "                keys.remove(k)\n",
    "    return len(keys) == 0\n",
    "\n",
    "for sample_size in range(10, 100, 10):\n",
    "    print \"--------\"\n",
    "    print \"Sample size: \" + str(sample_size)\n",
    "    sample_sizes.append(sample_size)\n",
    "    \n",
    "    inds = {}\n",
    "    for k in data.keys():\n",
    "        inds[k] = random.sample(range(10000), sample_size)\n",
    "\n",
    "    print inds\n",
    "    \n",
    "    analysis_data = {}\n",
    "#     for k, v in all_data.iteritems(): \n",
    "#         analysis_data[k] = v[:sample_size]\n",
    "    for k in data.keys(): \n",
    "        analysis_data[k] = [data[i] for i in inds[k]]\n",
    "        \n",
    "    analysis_knobs = {}\n",
    "#     for k, v in all_knobs.iteritems(): \n",
    "#         analysis_knobs[k] = v[:sample_size]\n",
    "    for k in knobs.keys(): \n",
    "        analysis_knobs[k] = [knobs[i] for i in inds[k]]\n",
    "\n",
    "    aov_table = FactorialAnova(fake_id, y_key, strategy_knobs.keys(), exp_count).start(analysis_data, analysis_knobs)\n",
    "\n",
    "    aov_table = aov_table.sort_values(by='PR(>F)', ascending=True)\n",
    "    probabilities = aov_table[\"PR(>F)\"]\n",
    "    significant_probs =  probabilities[probabilities < alpha]\n",
    "\n",
    "    print \"Evaluated \" + str(len(probabilities)) + \" out of which \" + str(len(significant_probs)) + \" were found significant.\"\n",
    "    \n",
    "    if all_knobs_considered(significant_probs):\n",
    "        print \"=============\"\n",
    "        print \"...stopping here since all knobs are considered. Significant probabilities:\"\n",
    "        print significant_probs        \n",
    "        print \"=============\"\n",
    "        break\n",
    "    "
   ]
  }
 ],
 "metadata": {
  "anaconda-cloud": {},
  "kernelspec": {
   "display_name": "Python [Root]",
   "language": "python",
   "name": "Python [Root]"
  },
  "language_info": {
   "codemirror_mode": {
    "name": "ipython",
    "version": 2
   },
   "file_extension": ".py",
   "mimetype": "text/x-python",
   "name": "python",
   "nbconvert_exporter": "python",
   "pygments_lexer": "ipython2",
   "version": "2.7.12"
  }
 },
 "nbformat": 4,
 "nbformat_minor": 0
}
