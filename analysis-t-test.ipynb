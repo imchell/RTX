{
 "cells": [
  {
   "cell_type": "markdown",
   "metadata": {},
   "source": [
    "# Comparison with baseline configuration\n",
    "\n",
    "Here, we load data from two configurations: the baseline (default) configuration and the best configuration found by our approach in the previous phases. The goal is to compare the two and see whether there is a singificant difference. \n",
    "\n",
    "## Load data"
   ]
  },
  {
   "cell_type": "code",
   "execution_count": 6,
   "metadata": {
    "collapsed": false
   },
   "outputs": [
    {
     "name": "stdout",
     "output_type": "stream",
     "text": [
      "data retrieved from file final-comparison-ttest-300_regular_cars-300_smart_cars.pickle\n"
     ]
    }
   ],
   "source": [
    "%matplotlib inline\n",
    "%reload_ext autoreload\n",
    "from rtxlib.rtx_run import setup_database, db\n",
    "from factorial_anova_analysis import get_raw_data\n",
    "\n",
    "index = \"final-comparison-ttest-300_regular_cars-300_smart_cars\" \n",
    "\n",
    "results = get_raw_data(index, False)"
   ]
  },
  {
   "cell_type": "markdown",
   "metadata": {},
   "source": [
    "## Display statistics"
   ]
  },
  {
   "cell_type": "code",
   "execution_count": 7,
   "metadata": {
    "collapsed": false
   },
   "outputs": [
    {
     "data": {
      "text/markdown": [
       "<span style='color:green'>**Found 2 different configurations in 10000 data **</span>"
      ],
      "text/plain": [
       "<IPython.core.display.Markdown object>"
      ]
     },
     "metadata": {},
     "output_type": "display_data"
    },
    {
     "name": "stdout",
     "output_type": "stream",
     "text": [
      "Configuration #1 (5000 data points):\n",
      "{   u'average_edge_duration_factor': 1.0,\n",
      "    u'exploration_percentage': 0.0,\n",
      "    u'freshness_cut_off_value': 700,\n",
      "    u'freshness_update_factor': 5,\n",
      "    u'max_speed_and_length_factor': 1.2218451599199196,\n",
      "    u're_route_every_ticks': 10,\n",
      "    u'route_random_sigma': 0.0}\n",
      "\n",
      "\n",
      "Configuration #2 (5000 data points):\n",
      "{   u'average_edge_duration_factor': 1.0,\n",
      "    u'exploration_percentage': 0.0,\n",
      "    u'freshness_cut_off_value': 700,\n",
      "    u'freshness_update_factor': 5,\n",
      "    u'max_speed_and_length_factor': 3,\n",
      "    u're_route_every_ticks': 10,\n",
      "    u'route_random_sigma': 0.0}\n",
      "\n",
      "\n"
     ]
    }
   ],
   "source": [
    "import pprint\n",
    "from IPython.display import Markdown, display\n",
    "\n",
    "def printmd(string, color=None):\n",
    "    colorstr = \"<span style='color:{}'>{}</span>\".format(color, string)\n",
    "    display(Markdown(colorstr))\n",
    "    \n",
    "pp = pprint.PrettyPrinter(indent=4)\n",
    "\n",
    "knobs = {}\n",
    "data = {}\n",
    "for r in results:\n",
    "    knob_str = str(r[1])\n",
    "    if not knob_str in knobs:        \n",
    "        knobs[knob_str] = []\n",
    "    if len(knobs[knob_str]) < 5000:\n",
    "        knobs[knob_str].append(r[1])\n",
    "    if not knob_str in data:        \n",
    "        data[knob_str] = []\n",
    "    if len(data[knob_str]) < 5000:\n",
    "        data[knob_str].append(r[0])\n",
    "\n",
    "printmd(\"**Found \" + str(len(knobs)) + \" different configurations in \" + str(len(results)) + \" data **\", \"green\")\n",
    "\n",
    "i = 1\n",
    "for k in knobs:\n",
    "    print \"Configuration #\" + str(i) + \" (\" + str(len(knobs[k])) + \" data points):\"\n",
    "    i += 1\n",
    "    pp.pprint(eval(k))\n",
    "    print \"\\n\""
   ]
  },
  {
   "cell_type": "markdown",
   "metadata": {},
   "source": [
    "## Comparing best found configuration from approach to baseline (default configuration)\n",
    "\n",
    "### Comparison #1: Performing t-test between the best configuration of the approach and the baseline (defau;t configuration)\n",
    "\n",
    "The result shows that the best configuration of the approach is statistically significant better (a<0.05) than the baseline (default) configuration."
   ]
  },
  {
   "cell_type": "code",
   "execution_count": 8,
   "metadata": {
    "collapsed": false
   },
   "outputs": [
    {
     "name": "stdout",
     "output_type": "stream",
     "text": [
      "with log transformation...\n",
      "with log transformation...\n"
     ]
    },
    {
     "data": {
      "text/markdown": [
       "<span style='color:green'>**SIGNIFICANT DIFFERENCE**</span>"
      ],
      "text/plain": [
       "<IPython.core.display.Markdown object>"
      ]
     },
     "metadata": {},
     "output_type": "display_data"
    },
    {
     "name": "stdout",
     "output_type": "stream",
     "text": [
      "sample size: 5000\n",
      "================\n",
      "Overhead in \n",
      "{   u'average_edge_duration_factor': 1.0,\n",
      "    u'exploration_percentage': 0.0,\n",
      "    u'freshness_cut_off_value': 700,\n",
      "    u'freshness_update_factor': 5,\n",
      "    u'max_speed_and_length_factor': 1.2218451599199196,\n",
      "    u're_route_every_ticks': 10,\n",
      "    u'route_random_sigma': 0.0}\n",
      " is smaller than in \n",
      "{   u'average_edge_duration_factor': 1.0,\n",
      "    u'exploration_percentage': 0.0,\n",
      "    u'freshness_cut_off_value': 700,\n",
      "    u'freshness_update_factor': 5,\n",
      "    u'max_speed_and_length_factor': 3,\n",
      "    u're_route_every_ticks': 10,\n",
      "    u'route_random_sigma': 0.0}\n",
      "================\n",
      "mean difference: -0.0243584856917\n",
      "p value: 4.80976249783e-05\n",
      "effect size (Cohen's d): -0.0780393413632\n",
      "statistical power: 0.987991250065\n",
      "\n",
      "\n"
     ]
    }
   ],
   "source": [
    "from analysis_lib.two_sample_tests import Ttest\n",
    "from analysis_lib.two_sample_tests import TtestPower\n",
    "from complaints_generator import generate_complaints\n",
    "from scipy.stats import binom_test\n",
    "import matplotlib as mpl\n",
    "import matplotlib.pyplot as plt\n",
    "mpl.rc(\"savefig\", dpi=150)\n",
    "import random \n",
    "from IPython.display import Markdown, display\n",
    "\n",
    "def printmd(string, color=None):\n",
    "    colorstr = \"<span style='color:{}'>{}</span>\".format(color, string)\n",
    "    display(Markdown(colorstr))\n",
    "    \n",
    "random.seed(123456)\n",
    "\n",
    "y_key = 'overhead'\n",
    "alpha = 0.05\n",
    "necessary_power = 0.80\n",
    "\n",
    "fake_run_id = \"123456\"\n",
    "\n",
    "knob_values = knobs.keys()\n",
    "best_knob = knob_values[0]\n",
    "other_knob_values = knob_values[1:] \n",
    "\n",
    "pvalues = {}\n",
    "powers = {}\n",
    "\n",
    "for i in knob_values:\n",
    "    pvalues[i] = []\n",
    "    powers[i] = []\n",
    "        \n",
    "step = 100\n",
    "\n",
    "count = 0\n",
    "sample_size = 5000\n",
    "\n",
    "for other_knob_value in other_knob_values:   \n",
    "\n",
    "    analysis_data = {}\n",
    "    raw_data = data[best_knob] \n",
    "    analysis_data[0] = random.sample(raw_data, sample_size)\n",
    "\n",
    "    raw_data = data[other_knob_value] \n",
    "    analysis_data[1] = random.sample(raw_data, sample_size)\n",
    "\n",
    "    t = Ttest(fake_run_id, y_key, alpha).start(analysis_data, {})\n",
    "    pvalues[other_knob_value].append(t[\"pvalue\"])\n",
    "    one_sided_p_value = t[\"pvalue\"]/2\n",
    "\n",
    "    if t[\"statistic\"] < 0:\n",
    "        t_p = TtestPower(fake_run_id, y_key, t[\"effect_size\"], alpha, 'smaller').start(analysis_data, {})            \n",
    "    else: \n",
    "        t_p = TtestPower(fake_run_id, y_key, t[\"effect_size\"], alpha, 'larger').start(analysis_data, {})            \n",
    "    powers[other_knob_value].append(t_p[\"power\"])\n",
    "\n",
    "    if one_sided_p_value < alpha and t_p[\"power\"] >= necessary_power:\n",
    "        printmd(\"**SIGNIFICANT DIFFERENCE**\", \"green\")\n",
    "        different = \"smaller\" if t[\"statistic\"] < 0 else \"larger\"\n",
    "        print \"sample size: \" + str(sample_size) \n",
    "        print \"================\"\n",
    "        print \"Overhead in \" \n",
    "        pp.pprint(eval(best_knob))\n",
    "        print \" is \" + different + \" than in \"\n",
    "        pp.pprint(eval(other_knob_value))\n",
    "        print \"================\"\n",
    "        print \"mean difference: \" + str(t[\"mean_diff\"]) \n",
    "        print \"p value: \" + str(one_sided_p_value)                                 \n",
    "        print \"effect size (Cohen's d): \" + str(t[\"effect_size\"]) \n",
    "        print \"statistical power: \" + str(t_p[\"power\"])\n",
    "        print \"\\n\"\n",
    "\n",
    "        count += 1\n",
    "        if t[\"statistic\"] >= 0:\n",
    "            best_knob = other_knob_value\n",
    "        break\n",
    "\n",
    "    if sample_size == 5000:\n",
    "        printmd(\"**NO SIGNIFICANT DIFFERENCE**\", \"red\")\n",
    "        different = \"smaller\" if t[\"statistic\"] < 0 else \"larger\"\n",
    "        print \"sample size: \" + str(sample_size) \n",
    "        print \"================\"\n",
    "        print \"Overhead in \" \n",
    "        pp.pprint(eval(best_knob))\n",
    "        print \" is \" + different + \" than in \"\n",
    "        pp.pprint(eval(other_knob_value))\n",
    "        print \"================\"\n",
    "        print \"mean difference: \" + str(t[\"mean_diff\"]) \n",
    "        print \"p value: \" + str(one_sided_p_value)                                 \n",
    "        print \"effect size (Cohen's d): \" + str(t[\"effect_size\"]) \n",
    "        print \"statistical power: \" + str(t_p[\"power\"])\n",
    "        print \"\\n\"\n",
    "    break"
   ]
  },
  {
   "cell_type": "markdown",
   "metadata": {},
   "source": [
    "### Comparison #3: Visual comparison of best configuration of approach and baseline (default) configuration in box plots \n",
    "\n",
    "Even by visual inspection we can see an improvement in the case of our approach (so-far best configuration yields smaller overheads)."
   ]
  },
  {
   "cell_type": "code",
   "execution_count": 9,
   "metadata": {
    "collapsed": false
   },
   "outputs": [
    {
     "data": {
      "image/png": "[encoded data removed]",
      "text/plain": [
       "<matplotlib.figure.Figure at 0x1162b5450>"
      ]
     },
     "metadata": {},
     "output_type": "display_data"
    }
   ],
   "source": [
    "all_data = []\n",
    "\n",
    "for knob in data.keys(): \n",
    "    analysis_data = [r[y_key] for r in data[knob]]\n",
    "    all_data.append(analysis_data)\n",
    "    \n",
    "knob_labels = [\"so-far best\", \"baseline\"]\n",
    "arithmetic_labels = [0,1]\n",
    "fig,ax = plt.subplots()\n",
    "ax.boxplot(all_data, 0, '', positions=arithmetic_labels)\n",
    "plt.xticks(arithmetic_labels, knob_labels)\n",
    "plt.legend(loc='best')\n",
    "plt.ylabel('overheads of trips')\n",
    "plt.xlabel('Configurations')\n",
    "plt.show()"
   ]
  }
 ],
 "metadata": {
  "anaconda-cloud": {},
  "kernelspec": {
   "display_name": "Python [Root]",
   "language": "python",
   "name": "Python [Root]"
  },
  "language_info": {
   "codemirror_mode": {
    "name": "ipython",
    "version": 2
   },
   "file_extension": ".py",
   "mimetype": "text/x-python",
   "name": "python",
   "nbconvert_exporter": "python",
   "pygments_lexer": "ipython2",
   "version": "2.7.12"
  }
 },
 "nbformat": 4,
 "nbformat_minor": 0
}
